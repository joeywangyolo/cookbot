{
  "nbformat": 4,
  "nbformat_minor": 0,
  "metadata": {
    "colab": {
      "provenance": [],
      "collapsed_sections": [],
      "authorship_tag": "ABX9TyPfAzkWfiie/AnFWKbqfVto",
      "include_colab_link": true
    },
    "kernelspec": {
      "name": "python3",
      "display_name": "Python 3"
    },
    "language_info": {
      "name": "python"
    }
  },
  "cells": [
    {
      "cell_type": "markdown",
      "metadata": {
        "id": "view-in-github",
        "colab_type": "text"
      },
      "source": [
        "<a href=\"https://colab.research.google.com/github/joeywangyolo/cookbot/blob/main/linebottest_1.ipynb\" target=\"_parent\"><img src=\"https://colab.research.google.com/assets/colab-badge.svg\" alt=\"Open In Colab\"/></a>"
      ]
    },
    {
      "cell_type": "code",
      "execution_count": null,
      "metadata": {
        "id": "BYIN3JTD9e6K"
      },
      "outputs": [],
      "source": [
        "!pip install line-bot-sdk flask flask-ngrok"
      ]
    },
    {
      "cell_type": "code",
      "source": [
        "from flask import Flask, request, abort, jsonify\n",
        "\n",
        "# 載入json處理套件\n",
        "import json\n",
        "\n",
        "# 外部連結自動生成套件\n",
        "from flask_ngrok import run_with_ngrok\n",
        "\n",
        "# 從linebot 套件包裡引用 LineBotApi 與 WebhookHandler 類別\n",
        "from linebot import (\n",
        "    LineBotApi, WebhookHandler\n",
        ")\n",
        "\n",
        "# 引用無效簽章錯誤\n",
        "from linebot.exceptions import (\n",
        "    InvalidSignatureError,\n",
        "    LineBotApiError\n",
        ")\n",
        "from linebot.models import *"
      ],
      "metadata": {
        "id": "SNs8ML2x9lRc"
      },
      "execution_count": null,
      "outputs": []
    },
    {
      "cell_type": "code",
      "source": [
        "app = Flask(__name__,static_url_path='/material',static_folder='./material')\n",
        "run_with_ngrok(app)\n",
        "\n",
        "line_bot_api = LineBotApi('aaVojFnTBTE7+BYR9Y1+AzjrnOvkIgBAW8QxVeqWMqxI4mQKD7nifTQAaPnnY4BJkPRUz/zPdnV7+KK8tqRCYjLDepPHWug/DNk4dtdyKMe+dqi29x312vvMSim4uMnVR5IFpOaNT+ju2qzkCK1woAdB04t89/1O/w1cDnyilFU=')\n",
        "handler = WebhookHandler(\"9bdeaaf10e10fc84052ea6b2c268db7f\")"
      ],
      "metadata": {
        "id": "ya-dHAwS9lOl"
      },
      "execution_count": null,
      "outputs": []
    },
    {
      "cell_type": "code",
      "source": [
        "from linebot.http_client import HttpResponse\n",
        "#LineBot 的主程序對話入口\n",
        "#啟動server對外接口，使Line能丟消息進來\n",
        "@app.route(\"/\" , methods=['POST'])\n",
        "def callback():\n",
        "    # get X-Line-Signature header value\n",
        "    signature = request.headers['X-Line-Signature']\n",
        "\n",
        "    # get request body as text\n",
        "    body = request.get_data(as_text = True)\n",
        "    app.logger.info(\"Request body: \" + body)\n",
        "    print(body)\n",
        "\n",
        "    # 記錄用戶log\n",
        "    #f = open(\"/content/drive/MyDrive/ai-event.log\", \"a\")\n",
        "    #f.write(body)\n",
        "    #f.close()\n",
        "\n",
        "    # handle webhook body\n",
        "    try:\n",
        "        events=handler.handle(body, signature)\n",
        "        #handler.handle(body, signature)\n",
        "    except InvalidSignatureError:\n",
        "        abort(400)\n",
        "\n",
        "    return 'OK'"
      ],
      "metadata": {
        "id": "NFAQBScH9lJH"
      },
      "execution_count": null,
      "outputs": []
    },
    {
      "cell_type": "code",
      "source": [
        "from linebot.models import *\n",
        "from traitlets.traitlets import EventHandler\n",
        "# 用戶發出文字消息時， 按條件內容, 回傳文字消息\n",
        "@handler.add(MessageEvent, message=TextMessage)\n",
        "def handle_message(event):\n",
        "\n",
        "    #用戶傳來的文字消息\n",
        "    #若有 find 關鍵字 則執行下面的方法\n",
        "    msg = event.message.text\n",
        "    print(msg)\n",
        "    if '食譜'in msg :\n",
        "      fruits_massage = fruits_crawler()\n",
        "      print(fruits_massage)\n",
        "      line_bot_api.reply_message(\n",
        "          event.reply_token,\n",
        "          #FlexSendMessage('食譜',fruits_massage)\n",
        "          FlexSendMessage(fruits_massage)\n",
        "      )\n",
        "    #若無，回應查無此字\n",
        "    else:\n",
        "        line_bot_api.reply_message(\n",
        "        event.reply_token,\n",
        "        TextSendMessage(text=\" 字典內查無此字，請輸入'食譜' \")\n",
        "        )"
      ],
      "metadata": {
        "id": "eH3u2UZI9kx8"
      },
      "execution_count": null,
      "outputs": []
    },
    {
      "cell_type": "code",
      "source": [
        "def fruits_crawler():\n",
        "  import requests\n",
        "  from bs4 import BeautifulSoup\n",
        "  import json\n",
        "  url = 'https://www.superbuy.com.tw/collection_fast.php?main_cate=610'\n",
        "  user_agent = 'Mozilla/5.0 (Macintosh; Intel Mac OS X 10_15_7) AppleWebKit/537.36 (KHTML, like Gecko) Chrome/105.0.0.0 Safari/537.36'\n",
        "  myHeaders={'User-Agent': user_agent}\n",
        "  r=requests.get(url, headers=myHeaders)\n",
        "  print(r.status_code)\n",
        "  total =[]\n",
        "  result =[]\n",
        "  if r.status_code == 200:\n",
        "      soup = BeautifulSoup(r.text,'html.parser')\n",
        "      fruits = soup.find_all(\n",
        "      'div',{'class':'product col-xs-6 col-sm-6 col-md-4'},\n",
        "      limit = 5\n",
        "      )\n",
        "      #print(fruits)\n",
        "      print('4')\n",
        "      for fruits in fruits:\n",
        "          img = fruits.find_all('li')[0].find('img')['src']\n",
        "        # print(img)\n",
        "          name = fruits.find_all('li')[2].text.strip()\n",
        "        # print(name)\n",
        "          weight = fruits.find_all('li')[3].text.strip()\n",
        "          #print(weight)\n",
        "          price = fruits.find_all('li')[4].text.strip()\n",
        "          links = fruits.find_all('li')[2].find('a')['href']\n",
        "          links = \"https://www.superbuy.com.tw/\"+links\n",
        "          #print(links)\n",
        "          total.append({\"img\":img,\n",
        "                        \"name\":name,\n",
        "                        \"weight\":weight,\n",
        "                        \"price\":price,\n",
        "                        \"links\":links\n",
        "                            })\n",
        "          print('7')\n",
        "      with open('/content/foodie.json',encoding='utf-8') as f:\n",
        "          fruits = json.load(f)\n",
        "          print('8')\n",
        "          for i in range(3):\n",
        "              fruits['contents'][i]['hero']['url'] = total[i]['img']\n",
        "              fruits['contents'][i]['body']['contents'][0]['text']= total[i]['name']\n",
        "              fruits[\"contents\"][i][\"body\"][\"contents\"][2][\"contents\"][0][\"contents\"][0]['text']= total[i]['weight']\n",
        "              fruits[\"contents\"][i][\"footer\"]['contents'][0]['action']['uri']= total[i]['links']\n",
        "          fruits_massage = FlexSendMessage.new_from_json_dict(fruits)   \n",
        "      with open('/content/foodie.json','w',newline='',encoding='utf-8') as f:\n",
        "          json.dump(fruits,f,indent=4,ensure_ascii=False)\n",
        "          #print(fruits['contents'][1]['hero']['url'])\n",
        "          #print(fruits['contents'][1]['body']['contents'][0]['text'])\n",
        "      return fruits_massage"
      ],
      "metadata": {
        "id": "d3bJBXIm9kpW"
      },
      "execution_count": null,
      "outputs": []
    },
    {
      "cell_type": "code",
      "source": [
        "app.run()"
      ],
      "metadata": {
        "id": "kzyN9Ybx90k5"
      },
      "execution_count": null,
      "outputs": []
    }
  ]
}